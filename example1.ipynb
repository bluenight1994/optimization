{
 "cells": [
  {
   "cell_type": "code",
   "execution_count": 1,
   "metadata": {
    "collapsed": true
   },
   "outputs": [],
   "source": [
    "from gurobipy import *"
   ]
  },
  {
   "cell_type": "code",
   "execution_count": 2,
   "metadata": {
    "collapsed": false
   },
   "outputs": [
    {
     "name": "stdout",
     "output_type": "stream",
     "text": [
      "Optimize a model with 2 rows, 2 columns and 4 nonzeros\n",
      "Coefficient statistics:\n",
      "  Matrix range     [4e+01, 4e+02]\n",
      "  Objective range  [2e+03, 3e+03]\n",
      "  Bounds range     [1e+02, 1e+02]\n",
      "  RHS range        [1e+04, 6e+04]\n",
      "Presolve time: 0.01s\n",
      "Presolved: 2 rows, 2 columns, 4 nonzeros\n",
      "\n",
      "Iteration    Objective       Primal Inf.    Dual Inf.      Time\n",
      "       0    2.4000000e+33   1.171875e+30   2.400000e+03      0s\n",
      "       2    5.2000000e+05   0.000000e+00   0.000000e+00      0s\n",
      "\n",
      "Solved in 2 iterations and 0.01 seconds\n",
      "Optimal objective  5.200000000e+05\n"
     ]
    }
   ],
   "source": [
    "myModel = Model(\"cloudExample\")\n",
    "\n",
    "xm = myModel.addVar( vtype = GRB.CONTINUOUS, name = \"xm\" )\n",
    "xs = myModel.addVar( vtype = GRB.CONTINUOUS, name = \"xs\", ub = 140 )\n",
    "myModel.update()\n",
    "\n",
    "objExpr = LinExpr()\n",
    "objExpr += 2400 * xm\n",
    "objExpr += 3200 * xs\n",
    "myModel.setObjective( objExpr, GRB.MAXIMIZE )\n",
    "\n",
    "firstConst = LinExpr()\n",
    "firstConst += 100 * xm\n",
    "firstConst += 40 * xs\n",
    "myModel.addConstr( lhs = firstConst, sense = GRB.LESS_EQUAL, \\\n",
    "                   rhs = 10000, name = \"ramConst\" )\n",
    "\n",
    "secondConst = LinExpr()\n",
    "secondConst += 200 * xm\n",
    "secondConst += 400 * xs\n",
    "myModel.addConstr( lhs = secondConst, sense = GRB.LESS_EQUAL, \\\n",
    "                   rhs = 60000, name = \"stoConst\" )\n",
    "\n",
    "myModel.update()\n",
    "myModel.write( filename = \"testOutput.lp\" )\n",
    "\n",
    "myModel.optimize()"
   ]
  },
  {
   "cell_type": "code",
   "execution_count": 3,
   "metadata": {
    "collapsed": true
   },
   "outputs": [],
   "source": [
    "curStatus = myModel.status\n",
    "if curStatus in (GRB.Status.INF_OR_UNBD, GRB.Status.INFEASIBLE, \\\n",
    "                GRB.Status.UNBOUNDED):\n",
    "    print(\"Could not find the optimal solution\")\n",
    "    exit(1)"
   ]
  },
  {
   "cell_type": "code",
   "execution_count": 4,
   "metadata": {
    "collapsed": false
   },
   "outputs": [
    {
     "name": "stdout",
     "output_type": "stream",
     "text": [
      "\n",
      "Optimal Objective: 520000.0\n",
      "\n",
      "Optimal Solution:\n",
      "xm 50.0\n",
      "xs 125.0\n",
      "\n",
      "Optimal Dual Solution:\n",
      "ramConst 10.0\n",
      "stoConst 7.0\n"
     ]
    }
   ],
   "source": [
    "# print optimal objective and optimal solution\n",
    "print( \"\\nOptimal Objective: \" + str( myModel.ObjVal ) )\n",
    "print( \"\\nOptimal Solution:\" )\n",
    "myVars = myModel.getVars()\n",
    "for curVar in myVars:\n",
    "    print ( curVar.varName + \" \" + str( curVar.x ) )\n",
    "# print optimal dual solution\n",
    "print( \"\\nOptimal Dual Solution:\" )\n",
    "myConsts = myModel.getConstrs()\n",
    "for curConst in myConsts:\n",
    "    print ( curConst.constrName + \" \" + str( curConst.pi ) )"
   ]
  },
  {
   "cell_type": "code",
   "execution_count": null,
   "metadata": {
    "collapsed": true
   },
   "outputs": [],
   "source": []
  }
 ],
 "metadata": {
  "anaconda-cloud": {},
  "kernelspec": {
   "display_name": "Python [default]",
   "language": "python",
   "name": "python2"
  },
  "language_info": {
   "codemirror_mode": {
    "name": "ipython",
    "version": 2
   },
   "file_extension": ".py",
   "mimetype": "text/x-python",
   "name": "python",
   "nbconvert_exporter": "python",
   "pygments_lexer": "ipython2",
   "version": "2.7.12"
  }
 },
 "nbformat": 4,
 "nbformat_minor": 1
}
