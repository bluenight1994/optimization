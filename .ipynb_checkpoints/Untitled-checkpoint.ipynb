{
 "cells": [
  {
   "cell_type": "code",
   "execution_count": 1,
   "metadata": {
    "collapsed": true
   },
   "outputs": [],
   "source": [
    "from gurobipy import *\n",
    "import xlrd\n",
    "from numpy import *"
   ]
  },
  {
   "cell_type": "code",
   "execution_count": 2,
   "metadata": {
    "collapsed": true
   },
   "outputs": [],
   "source": [
    "# there are 71 papers and 21 referees\n",
    "\n",
    "noPapers = 71\n",
    "noReferees = 21"
   ]
  },
  {
   "cell_type": "code",
   "execution_count": 3,
   "metadata": {
    "collapsed": false
   },
   "outputs": [],
   "source": [
    "# read data from xlsx\n",
    "\n",
    "workbook = xlrd.open_workbook('paper_preferences.xlsx')\n",
    "worksheet = workbook.sheet_by_index(2)\n",
    "preferences = [[0 for _ in range(noReferees)] for __ in range(noPapers)]\n",
    "\n",
    "for i in range(1, noPapers+1):\n",
    "    for j in range(1, noReferees+1):\n",
    "        preferences[i-1][j-1] = worksheet.cell_value(i,j)"
   ]
  },
  {
   "cell_type": "code",
   "execution_count": 4,
   "metadata": {
    "collapsed": false
   },
   "outputs": [],
   "source": [
    "map = { 'yes':3, 'maybe':2, 'no':1, 'conflict':0 }\n",
    "for i in range(noPapers):\n",
    "    for j in range(noReferees):\n",
    "        preferences[i][j] = map[preferences[i][j]]"
   ]
  },
  {
   "cell_type": "code",
   "execution_count": 5,
   "metadata": {
    "collapsed": false
   },
   "outputs": [],
   "source": [
    "# create a model\n",
    "model = Model('assignment')\n",
    "\n",
    "# create decision variables and store them in the array assignments\n",
    "assignments = [[0 for _ in range(noReferees)] for __ in range(noPapers)]\n",
    "for i in range(noPapers):\n",
    "    for j in range(noReferees):\n",
    "        curVar = model.addVar( vtype = GRB.CONTINUOUS, \\\n",
    "                               name = \"x\" + str(i) + str(j))\n",
    "        assignments[i][j] = curVar\n",
    "model.update()"
   ]
  },
  {
   "cell_type": "code",
   "execution_count": 6,
   "metadata": {
    "collapsed": true
   },
   "outputs": [],
   "source": [
    "# create linear expression for the objective\n",
    "\n",
    "objExpr = LinExpr()\n",
    "for i in range(noPapers):\n",
    "    for j in range(noReferees):\n",
    "        curVar = assignments[i][j]\n",
    "        objExpr += preferences[i][j] * curVar\n",
    "model.setObjective( objExpr, GRB.MAXIMIZE )"
   ]
  },
  {
   "cell_type": "code",
   "execution_count": 7,
   "metadata": {
    "collapsed": true
   },
   "outputs": [],
   "source": [
    "# constraits\n",
    "# constrait 1 : each paper gets reviewed by 3 referees\n",
    "# sum up each rows of assignments equals exactly to 3\n",
    "\n",
    "for i in range(noPapers):\n",
    "    constExpr = LinExpr()\n",
    "    for j in range(noReferees):\n",
    "        curVar  = assignments[i][j]\n",
    "        constExpr += 1 * curVar\n",
    "    model.addConstr( lhs = constExpr , sense = GRB.EQUAL, rhs = 3, \\\n",
    "                     name = \"p\" + str(i) )"
   ]
  }
 ],
 "metadata": {
  "anaconda-cloud": {},
  "kernelspec": {
   "display_name": "Python [default]",
   "language": "python",
   "name": "python2"
  },
  "language_info": {
   "codemirror_mode": {
    "name": "ipython",
    "version": 2
   },
   "file_extension": ".py",
   "mimetype": "text/x-python",
   "name": "python",
   "nbconvert_exporter": "python",
   "pygments_lexer": "ipython2",
   "version": "2.7.12"
  }
 },
 "nbformat": 4,
 "nbformat_minor": 1
}
