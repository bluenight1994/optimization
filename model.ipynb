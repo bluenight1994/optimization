{
 "cells": [
  {
   "cell_type": "code",
   "execution_count": 1,
   "metadata": {
    "collapsed": true
   },
   "outputs": [],
   "source": [
    "%matplotlib inline\n",
    "from gurobipy import *\n",
    "import xlrd\n",
    "from numpy import *\n",
    "from matplotlib import pyplot as plt"
   ]
  },
  {
   "cell_type": "code",
   "execution_count": 2,
   "metadata": {
    "collapsed": true
   },
   "outputs": [],
   "source": [
    "# there are 71 papers and 21 referees\n",
    "\n",
    "noPapers = 71\n",
    "noReferees = 21"
   ]
  },
  {
   "cell_type": "code",
   "execution_count": 3,
   "metadata": {
    "collapsed": false
   },
   "outputs": [],
   "source": [
    "# read data from xlsx\n",
    "\n",
    "workbook = xlrd.open_workbook('paper_preferences.xlsx')\n",
    "worksheet = workbook.sheet_by_index(2)\n",
    "preferences = [[0 for _ in range(noReferees)] for __ in range(noPapers)]\n",
    "\n",
    "for i in range(1, noPapers+1):\n",
    "    for j in range(1, noReferees+1):\n",
    "        preferences[i-1][j-1] = worksheet.cell_value(i,j)"
   ]
  },
  {
   "cell_type": "code",
   "execution_count": 4,
   "metadata": {
    "collapsed": false
   },
   "outputs": [],
   "source": [
    "map = { 'yes':0, 'maybe':1, 'no':2, 'conflict':3 }\n",
    "for i in range(noPapers):\n",
    "    for j in range(noReferees):\n",
    "        preferences[i][j] = map[preferences[i][j]]"
   ]
  },
  {
   "cell_type": "code",
   "execution_count": 5,
   "metadata": {
    "collapsed": false
   },
   "outputs": [],
   "source": [
    "# create a model\n",
    "model = Model('assignment')\n",
    "\n",
    "# create decision variables and store them in the array assignments\n",
    "assignments = [[0 for _ in range(noReferees)] for __ in range(noPapers)]\n",
    "for i in range(noPapers):\n",
    "    for j in range(noReferees):\n",
    "        curVar = model.addVar( vtype = GRB.BINARY, \\\n",
    "                               name = \"x\" + \"(\"+ str(i) + \",\" + str(j) + \")\")\n",
    "        assignments[i][j] = curVar\n",
    "model.update()"
   ]
  },
  {
   "cell_type": "code",
   "execution_count": 6,
   "metadata": {
    "collapsed": true
   },
   "outputs": [],
   "source": [
    "# create linear expression for the objective\n",
    "\n",
    "objExpr = LinExpr()\n",
    "for i in range(noPapers):\n",
    "    for j in range(noReferees):\n",
    "        curVar = assignments[i][j]\n",
    "        objExpr += preferences[i][j] * curVar\n",
    "model.setObjective( objExpr, GRB.MINIMIZE )\n",
    "model.update()"
   ]
  },
  {
   "cell_type": "code",
   "execution_count": 7,
   "metadata": {
    "collapsed": true
   },
   "outputs": [],
   "source": [
    "# constraits\n",
    "# constrait 1 : each paper gets reviewed by 3 referees\n",
    "# sum up each rows of assignments equals exactly to 3\n",
    "\n",
    "for i in range(noPapers):\n",
    "    constExpr = LinExpr()\n",
    "    for j in range(noReferees):\n",
    "        curVar  = assignments[i][j]\n",
    "        constExpr += 1 * curVar\n",
    "    model.addConstr( lhs = constExpr , sense = GRB.EQUAL, rhs = 3, \\\n",
    "                     name = \"p\" + str(i) )\n",
    "model.update()"
   ]
  },
  {
   "cell_type": "code",
   "execution_count": 8,
   "metadata": {
    "collapsed": true
   },
   "outputs": [],
   "source": [
    "# constrain 2 : each referee should review roughly the same number of papers.\n",
    "index = 0\n",
    "for i in range(noReferees-1):\n",
    "    for j in range(i+1, noReferees):\n",
    "        constExpr = LinExpr()\n",
    "        index += 1\n",
    "        for k in range(noPapers):\n",
    "            left = assignments[k][i]\n",
    "            right = assignments[k][j]\n",
    "            constExpr += 1 * left\n",
    "            constExpr += -1 * right\n",
    "            model.addRange( constExpr, -2.0, 2.0, \"Range\" + str(index) )\n",
    "model.update()"
   ]
  },
  {
   "cell_type": "code",
   "execution_count": 9,
   "metadata": {
    "collapsed": true
   },
   "outputs": [],
   "source": [
    "# constrain 3: don't assign conflict paper\n",
    "index = 0\n",
    "for i in range(noPapers):\n",
    "    for j in range(noReferees):\n",
    "        index += 1\n",
    "        constExpr = LinExpr()\n",
    "        constExpr += preferences[i][j] * assignments[i][j]\n",
    "        model.addConstr( lhs = constExpr , sense = GRB.LESS_EQUAL, rhs = 2, \\\n",
    "                     name = \"uu\" + str(index) )\n",
    "model.update()"
   ]
  },
  {
   "cell_type": "code",
   "execution_count": 10,
   "metadata": {
    "collapsed": false
   },
   "outputs": [
    {
     "name": "stdout",
     "output_type": "stream",
     "text": [
      "Warning: variables 1491 and 1492 have the same name \"RgRange1\"\n",
      "Warning: linear constraint 71 and linear constraint 72 have the same name \"Range1\"\n",
      "Warning: to let Gurobi read it back, use rlp format\n",
      "Optimize a model with 16472 rows, 16401 columns and 1091222 nonzeros\n",
      "Variable types: 14910 continuous, 1491 integer (1491 binary)\n",
      "Coefficient statistics:\n",
      "  Matrix range     [1e+00, 3e+00]\n",
      "  Objective range  [1e+00, 3e+00]\n",
      "  Bounds range     [1e+00, 4e+00]\n",
      "  RHS range        [2e+00, 3e+00]\n",
      "Presolve removed 1961 rows and 536 columns\n",
      "Presolve time: 2.08s\n",
      "Presolved: 14511 rows, 15865 columns, 1037816 nonzeros\n",
      "Variable types: 0 continuous, 15865 integer (1425 binary)\n",
      "Found heuristic solution: objective 348.0000000\n",
      "\n",
      "Root relaxation: objective 8.836898e+01, 858 iterations, 0.52 seconds\n",
      "\n",
      "    Nodes    |    Current Node    |     Objective Bounds      |     Work\n",
      " Expl Unexpl |  Obj  Depth IntInf | Incumbent    BestBd   Gap | It/Node Time\n",
      "\n",
      "     0     0   88.36898    0 9214  348.00000   88.36898  74.6%     -    4s\n",
      "H    0     0                     346.0000000   88.36898  74.5%     -    5s\n",
      "     0     0   88.46946    0 9061  346.00000   88.46946  74.4%     -    6s\n",
      "     0     0   88.53055    0 9510  346.00000   88.53055  74.4%     -    7s\n",
      "     0     0   88.62363    0 10582  346.00000   88.62363  74.4%     -    9s\n",
      "     0     0   88.65173    0 10711  346.00000   88.65173  74.4%     -    9s\n",
      "     0     0   88.67379    0 10709  346.00000   88.67379  74.4%     -   11s\n",
      "     0     0   88.69218    0 11257  346.00000   88.69218  74.4%     -   11s\n",
      "     0     0   88.69323    0 11444  346.00000   88.69323  74.4%     -   12s\n",
      "     0     0   88.69392    0 11343  346.00000   88.69392  74.4%     -   13s\n",
      "     0     0   88.69392    0 11393  346.00000   88.69392  74.4%     -   14s\n",
      "     0     0   88.69392    0 11363  346.00000   88.69392  74.4%     -   14s\n",
      "     0     0   88.69392    0 11394  346.00000   88.69392  74.4%     -   15s\n",
      "     0     0   88.69392    0 11348  346.00000   88.69392  74.4%     -   16s\n",
      "     0     0   88.69392    0 11011  346.00000   88.69392  74.4%     -   19s\n",
      "     0     0   88.69392    0 10585  346.00000   88.69392  74.4%     -   22s\n",
      "     0     0   88.69392    0 10597  346.00000   88.69392  74.4%     -   23s\n",
      "     0     0   88.69392    0 10927  346.00000   88.69392  74.4%     -   25s\n",
      "     0     0   88.69392    0 10999  346.00000   88.69392  74.4%     -   26s\n",
      "     0     0   88.69392    0 10889  346.00000   88.69392  74.4%     -   28s\n",
      "     0     0   88.69392    0 10557  346.00000   88.69392  74.4%     -   31s\n",
      "     0     2   88.69392    0 10557  346.00000   88.69392  74.4%     -   33s\n",
      "    62    62   89.27497   15 10223  346.00000   88.70127  74.4%  51.8   35s\n",
      "*  311   180              63      91.0000000   88.70127  2.53%  31.6   38s\n",
      "   405   253   89.54444   15 9999   91.00000   88.70774  2.52%  31.6   40s\n",
      "H  535    72                      90.0000000   88.72651  1.41%  31.6   41s\n",
      "   804     5     cutoff    7        90.00000   88.88397  1.24%  29.5   45s\n",
      "\n",
      "Cutting planes:\n",
      "  Gomory: 4\n",
      "  MIR: 10\n",
      "  StrongCG: 1\n",
      "  Zero half: 13\n",
      "\n",
      "Explored 830 nodes (27917 simplex iterations) in 45.56 seconds\n",
      "Thread count was 8 (of 8 available processors)\n",
      "\n",
      "Solution count 4: 90 91 346 348 \n",
      "Pool objective bound 90\n",
      "\n",
      "Optimal solution found (tolerance 1.00e-04)\n",
      "Best objective 9.000000000000e+01, best bound 9.000000000000e+01, gap 0.0000%\n"
     ]
    }
   ],
   "source": [
    "model.update()\n",
    "model.write( filename = \"Output.lp\" )\n",
    "\n",
    "model.optimize()"
   ]
  },
  {
   "cell_type": "code",
   "execution_count": 11,
   "metadata": {
    "collapsed": true
   },
   "outputs": [],
   "source": [
    "res = [[0 for _ in range(noReferees)] for __ in range(noPapers)]"
   ]
  },
  {
   "cell_type": "code",
   "execution_count": 12,
   "metadata": {
    "collapsed": true
   },
   "outputs": [],
   "source": [
    "for i in range(noPapers):\n",
    "    for j in range(noReferees):\n",
    "        res[i][j] = assignments[i][j].x"
   ]
  },
  {
   "cell_type": "code",
   "execution_count": 13,
   "metadata": {
    "collapsed": true
   },
   "outputs": [],
   "source": [
    "# score 558\n",
    "mat1 = res"
   ]
  },
  {
   "cell_type": "code",
   "execution_count": 14,
   "metadata": {
    "collapsed": false
   },
   "outputs": [
    {
     "data": {
      "text/plain": [
       "[11.0,\n",
       " 11.0,\n",
       " 10.0,\n",
       " 10.0,\n",
       " 11.0,\n",
       " 11.0,\n",
       " 9.0,\n",
       " 10.0,\n",
       " 9.0,\n",
       " 9.0,\n",
       " 11.0,\n",
       " 9.0,\n",
       " 11.0,\n",
       " 10.0,\n",
       " 9.0,\n",
       " 10.0,\n",
       " 9.0,\n",
       " 11.0,\n",
       " 11.0,\n",
       " 10.0,\n",
       " 11.0]"
      ]
     },
     "execution_count": 14,
     "metadata": {},
     "output_type": "execute_result"
    }
   ],
   "source": [
    "# check each referee assignment situation\n",
    "res = array(res)\n",
    "r1 = []\n",
    "for i in range(noReferees):\n",
    "    r1.append(res[:,i].sum())\n",
    "r1"
   ]
  },
  {
   "cell_type": "code",
   "execution_count": 16,
   "metadata": {
    "collapsed": false
   },
   "outputs": [
    {
     "data": {
      "text/plain": [
       "(array([ 6.,  0.,  0.,  0.,  0.,  6.,  0.,  0.,  0.,  9.]),\n",
       " array([  9. ,   9.2,   9.4,   9.6,   9.8,  10. ,  10.2,  10.4,  10.6,\n",
       "         10.8,  11. ]),\n",
       " <a list of 10 Patch objects>)"
      ]
     },
     "execution_count": 16,
     "metadata": {},
     "output_type": "execute_result"
    },
    {
     "data": {
      "image/png": "[encoded data removed]",
      "text/plain": [
       "<matplotlib.figure.Figure at 0x10ec43a90>"
      ]
     },
     "metadata": {},
     "output_type": "display_data"
    }
   ],
   "source": [
    "plt.hist(r1)"
   ]
  },
  {
   "cell_type": "code",
   "execution_count": 17,
   "metadata": {
    "collapsed": false
   },
   "outputs": [
    {
     "data": {
      "text/plain": [
       "213.0"
      ]
     },
     "execution_count": 17,
     "metadata": {},
     "output_type": "execute_result"
    }
   ],
   "source": [
    "sum(r1)"
   ]
  },
  {
   "cell_type": "code",
   "execution_count": 22,
   "metadata": {
    "collapsed": false
   },
   "outputs": [
    {
     "data": {
      "text/plain": [
       "<Container object of 21 artists>"
      ]
     },
     "execution_count": 22,
     "metadata": {},
     "output_type": "execute_result"
    },
    {
     "data": {
      "image/png": "[encoded data removed]",
      "text/plain": [
       "<matplotlib.figure.Figure at 0x11205c3d0>"
      ]
     },
     "metadata": {},
     "output_type": "display_data"
    }
   ],
   "source": [
    "plt.bar(range(21),r1)"
   ]
  },
  {
   "cell_type": "code",
   "execution_count": 21,
   "metadata": {
    "collapsed": false
   },
   "outputs": [
    {
     "name": "stdout",
     "output_type": "stream",
     "text": [
      "90.0\n"
     ]
    }
   ],
   "source": [
    "score = 0\n",
    "for i in range(noPapers):\n",
    "    for j in range(noReferees):\n",
    "        score += res[i][j] * preferences[i][j]\n",
    "print score"
   ]
  },
  {
   "cell_type": "code",
   "execution_count": 23,
   "metadata": {
    "collapsed": true
   },
   "outputs": [],
   "source": [
    "import xlwt"
   ]
  },
  {
   "cell_type": "code",
   "execution_count": 26,
   "metadata": {
    "collapsed": false
   },
   "outputs": [],
   "source": [
    "workbook = xlwt.Workbook(encoding = 'ascii')\n",
    "worksheet = workbook.add_sheet('My Worksheet')\n",
    "for i in range(noPapers):\n",
    "    for j in range(noReferees):\n",
    "        if res[i][j] == 1:\n",
    "            worksheet.write(i, j, res[i][j] * preferences[i][j])\n",
    "workbook.save('output.xls')"
   ]
  },
  {
   "cell_type": "code",
   "execution_count": null,
   "metadata": {
    "collapsed": true
   },
   "outputs": [],
   "source": []
  }
 ],
 "metadata": {
  "anaconda-cloud": {},
  "kernelspec": {
   "display_name": "Python 2",
   "language": "python",
   "name": "python2"
  },
  "language_info": {
   "codemirror_mode": {
    "name": "ipython",
    "version": 2
   },
   "file_extension": ".py",
   "mimetype": "text/x-python",
   "name": "python",
   "nbconvert_exporter": "python",
   "pygments_lexer": "ipython2",
   "version": "2.7.12"
  }
 },
 "nbformat": 4,
 "nbformat_minor": 1
}
